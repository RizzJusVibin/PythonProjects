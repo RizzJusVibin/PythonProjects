{
  "nbformat": 4,
  "nbformat_minor": 0,
  "metadata": {
    "colab": {
      "name": "RSAEncryptionNotebook.ipynb",
      "provenance": []
    },
    "kernelspec": {
      "name": "python3",
      "display_name": "Python 3"
    },
    "language_info": {
      "name": "python"
    }
  },
  "cells": [
    {
      "cell_type": "markdown",
      "source": [
        "RSA Encryption Code\n",
        "\n",
        "This is my RSA encryption and decryption code that uses lists, functions, if statements, and lots of multiplication, division, addition, and subtraction"
      ],
      "metadata": {
        "id": "yRaVOFwWgy39"
      }
    },
    {
      "cell_type": "code",
      "source": [
        "import math#Imports math notebooks\n",
        "alpha = \"ABCDEFGHIJKLMNOPQRSTUVWXYZ\"#Creates alpha to be all uppercare letters in the alphabet\n",
        "\n",
        "'''\n",
        "This function helps get the mod inverse of and b, given from assignment\n",
        "'''\n",
        "def mod_inverse_helper(a, b):\n",
        "    q, r = a//b, a%b\n",
        "    if r == 1:\n",
        "        return (1, -1 * q)\n",
        "    u, v = mod_inverse_helper(b, r)\n",
        "    return (v, -1 * q * v + u)\n",
        "'''\n",
        "This function helps get the mod inverse of a and m, given from the assignment\n",
        "'''\n",
        "def mod_inverse(a, m):\n",
        "    assert math.gcd(a, m) == 1, \"You're trying to invert \" + str(a) + \" in mod \" + str(m) + \" and that doesn't work!\"\n",
        "    return mod_inverse_helper(m, a)[1] % m\n",
        "'''\n",
        "This function converts the text to numbers\n",
        "'''\n",
        "def convert_to_num(ngram):#Creates the function\n",
        "  f_num=0 #Variable f_num = 0\n",
        "  for i in range(len(ngram)): #For the index in the range of the length of ngram\n",
        "    k = alpha.index(ngram[i]) #k finds the alphabets index in ngram's index\n",
        "    exp = 26**i #exp takes 26 and multiplies it to the power of those index values\n",
        "    f_num = f_num + k * exp #a =+ b -> a=a+b, f_num = f_num + the value of k times value of exp\n",
        "  return f_num #Returns that number\n",
        "\n",
        "def convert_to_text(num, n):#Creates the function\n",
        "  text_list=[]#Creates a new list\n",
        "  for i in range(n):#For index in the range of variable n\n",
        "    f_let = num%26 #f_let = num mod 26\n",
        "    num = (num//26) # num = num floor divided by 26\n",
        "    text_list.append(alpha[f_let])#Will append the text into the new list from f_let\n",
        "  return''.join(text_list)#Will return the text into a single string\n",
        "\n",
        "def rsa_encode(text, m, e):#Creates a new function\n",
        "  num = convert_to_num(text)#num = call back convert_to_num function, so it will change the text to numbers\n",
        "  rsa_num = pow(num,e,m)#rsa_num takes the previous number, and multiplies it by m to the power of e to make the number larger\n",
        "  \n",
        "  return rsa_num#Will return a large number\n",
        "\n",
        "def rsa_decode(num, m, d, l):#Creates a new function\n",
        "  rsa_num = pow(num,d,m)#Will begin to factor the large number\n",
        "  word = convert_to_text(rsa_num,l)#WIll convert the smaller number to text\n",
        "  return word#Will return the original word\n",
        "\n",
        "def get_d(p, q, e):#Creates a new function\n",
        "  t = (p-1) * (q-1)#Sets up an equation to get p * q\n",
        "  mit = mod_inverse(e, t)#Will get the mod inverse of e and t\n",
        "  return mit#Will return the mod inverse of t\n",
        "\n",
        "text = \"THEFIVEBOXINGWIZARDSJUMPQUICKLY\" #Text for the entire code\n",
        "l = len(text) #Length of text above\n",
        "p = 292361466231755597564095925310764764819 #Prime number 1\n",
        "q = 307125506157764866722739041634199200019 #Prime number 2\n",
        "e = 65537 #Random number to the power\n",
        "m = p * q #m= p times q\n",
        "d = get_d(p, q, e) #d = function get_d \n",
        "enc = rsa_encode(text, m, e) #enc=rsa_encode function\n",
        "dec = rsa_decode(enc, m, d, l) #dec = rsa_decode function\n",
        "print(enc) #Will print encode which will be a long number\n",
        "print(dec) #Will print decode which will be text"
      ],
      "metadata": {
        "colab": {
          "base_uri": "https://localhost:8080/"
        },
        "id": "kVhxtlmYhLzu",
        "outputId": "57b93005-dcd2-4574-d858-d041eb0d73ca"
      },
      "execution_count": 1,
      "outputs": [
        {
          "output_type": "stream",
          "name": "stdout",
          "text": [
            "34028226424022141662679340496616735128390579906964150145035108807466384852365\n",
            "THEFIVEBOXINGWIZARDSJUMPQUICKLY\n"
          ]
        }
      ]
    }
  ]
}