{
  "nbformat": 4,
  "nbformat_minor": 0,
  "metadata": {
    "colab": {
      "name": "XO3VigenereCipherNotebook2022.ipynb",
      "provenance": []
    },
    "kernelspec": {
      "name": "python3",
      "display_name": "Python 3"
    },
    "language_info": {
      "name": "python"
    }
  },
  "cells": [
    {
      "cell_type": "markdown",
      "source": [
        "# ***Vigenere Cipher***\n",
        "\n",
        "This is my vigenere cipher code that uses functions, lists, variables, if else loops, and for loops to encode and decode in the form of the Vigenere Cipher"
      ],
      "metadata": {
        "id": "84fH2HRAZW4p"
      }
    },
    {
      "cell_type": "markdown",
      "source": [
        "*   Line 1: This is the variable that we use to store the alphabet in all caps for the code to later use"
      ],
      "metadata": {
        "id": "3d4u1ALl5CYr"
      }
    },
    {
      "cell_type": "code",
      "source": [
        "alpha = \"ABCDEFGHIJKLMNOPQRSTUVWXYZ\" "
      ],
      "metadata": {
        "id": "CanLOSb40aMn"
      },
      "execution_count": 1,
      "outputs": []
    },
    {
      "cell_type": "markdown",
      "source": [
        "**The function generateKey as a summary takes the variable key, which = AYUSH, turns it into a list, and for our phrase, the function will see how many times that AYUSH will fit into the amount of letters in our phrase**\n",
        "\n",
        "A perfect example of this is:\n",
        "```\n",
        "THEQUICKBROWNFOXJUMPEDOVERTHELAZYDOG\n",
        "TESTTESTTESTTESTTESTTESTTESTTESTTEST\n",
        "```\n",
        "*   Line 1: This creates the new function generateKey with the constraints of string and key\n",
        "*   Line 2: Variable key turns the key 'AYUSH' into a list\n",
        "*   Line 3: If the length of the string phrase equals the length of the key\n",
        "*   Line 4: Then it will return the key since the code will not encode properly\n",
        "*   Line 5: Else, so if the string phrase is longer than the length of the key\n",
        "*   Line 6: For the index in the range of the length of the string phrase - the length of the key\n",
        "*   Line 7: This will append the letters that the previous line gets\n",
        "*   Line 8: This will join the letters together to form the key"
      ],
      "metadata": {
        "id": "Nj5ZihoD0cR3"
      }
    },
    {
      "cell_type": "code",
      "source": [
        "def generateKey(string, key):\n",
        "  key = list(key)\n",
        "  if len(string) == len(key):\n",
        "    return(key)\n",
        "  else:\n",
        "    for i in range(len(string)-len(key)):\n",
        "      key.append(key[i])\n",
        "    return\"\" . join(key)"
      ],
      "metadata": {
        "id": "i9HNlg_N2A7N"
      },
      "execution_count": 2,
      "outputs": []
    },
    {
      "cell_type": "markdown",
      "source": [
        "**The function cipherText as a summary takes the alphabet's index of the phrase, and key, and for each letter that corresponds, so like in the example above, T goes with T, it will add the indexs together and in mod 26, find the remainder in alphabets index to generate a letter**\n",
        "\n",
        "A perfect example of this:\n",
        "```\n",
        "THEQUICKBROWNFOXJUMPEDOVERTHELAZYDOG\n",
        "TESTTESTTESTTESTTESTTESTTESTTESTTEST\n",
        "------------------------------------\n",
        "MLWJNMUDUVGPGJGQCYEIXHGOXVLAXPSSRHGZ\n",
        "```\n",
        "*   Line 1: This creates a new function cipherText with the constraints string and key\n",
        "*   Line 2: This variable is an empty list that will be used later\n",
        "*   Line 3: This starts a for loop, for the index in the range of the length of string, which is the phrase\n",
        "*   Line 4: Variable m_num finds the string phrase's index in the alphabet's index\n",
        "*   Line 5: Variable k_num finds the key 'AYSUH' index in the alphabet's index\n",
        "*   Line 6: Variable e_num adds the index values of string and key (using their index values in the alphabet) in mod 26 to get an index value, which when put into the alphabet's index will equal a letter\n",
        "*   Line 7: This uses the empty list to put all of the encoded letters together\n",
        "*   Line 8: This joins the encoded letter list as a single string\n",
        "\n",
        "\n",
        "\n"
      ],
      "metadata": {
        "id": "TZ8TE83x2Dy6"
      }
    },
    {
      "cell_type": "code",
      "source": [
        "def cipherText(string, key):\n",
        "  cipher_text = []\n",
        "  for i in range(len(string)):\n",
        "    m_num = alpha.index(string[i])\n",
        "    k_num = alpha.index(key[i])\n",
        "    e_num = (m_num+k_num) %26\n",
        "    cipher_text.append(alpha[e_num])\n",
        "  return \"\" . join(cipher_text)"
      ],
      "metadata": {
        "id": "-fJJWP8I2r1b"
      },
      "execution_count": 3,
      "outputs": []
    },
    {
      "cell_type": "markdown",
      "source": [
        "**The function originalText as a summary takes the alphabet's index of the phrase, and key, and for each letter that corresponds, so like in the example above, and it will subtract the indexs from eachother and in mod 26, find the remainder in alphabets index to generate a letter which will form the original phrase**\n",
        "*   Line 1: This creates a new function originalText with the constraints string and key\n",
        "*   Line 2: This variable is an empty list that will be used later\n",
        "*   Line 3: This starts a for loop, for the index in the range of the length of string, which is the phrase\n",
        "*   Line 4: Variable m_num finds the string phrase's index in the alphabet's index\n",
        "*   Line 5: Variable k_num finds the key 'AYSUH' index in the alphabet's index\n",
        "*   Line 6: Variable e_num subtracts the index values of string and key (using their index values in the alphabet) in mod 26 to get an index value, which when put into the alphabet's index will equal a letter\n",
        "*   Line 7: This uses the empty list to put all of the decoded letters together\n",
        "*   Line 8: This joins the decoded letter list as a single string to give us the original phrase"
      ],
      "metadata": {
        "id": "Vmv5VNx98xUj"
      }
    },
    {
      "cell_type": "code",
      "source": [
        "def originalText(string, key):\n",
        "  cipher_text = []\n",
        "  for i in range(len(string)):\n",
        "    m_num = alpha.index(string[i])\n",
        "    k_num = alpha.index(key[i])\n",
        "    e_num = (m_num-k_num) %26\n",
        "    cipher_text.append(alpha[e_num])\n",
        "  return \"\" . join(cipher_text)"
      ],
      "metadata": {
        "id": "9wwH6GXG8xj8"
      },
      "execution_count": 4,
      "outputs": []
    },
    {
      "cell_type": "markdown",
      "source": [
        "**This code is needed for the functions to work**\n",
        "*   Line 1: Creates a variable string = RIZZJUSVIBIN\n",
        "*   Line 2: Creates a variable keyword = AYUSH\n",
        "*   Line 3: Creates a variable key = a call back function for generateKey with the constraints of string and keyword\n",
        "*   Line 4: Creates a variable cipher_text = a call back function for cipherText with the constraints string and key\n",
        "*   Line 5: Prints the word encrypted and the variable cipher_text \n",
        "*   Line 6: Creates a variable original_text =  a call back function for originalText with the constraints cipher_text and key\n",
        "*   Line 7: Prints the word decrypted and the variable original_text"
      ],
      "metadata": {
        "id": "mwucuWia70I_"
      }
    },
    {
      "cell_type": "code",
      "source": [
        "string = \"RIZZJUSVIBIN\"\n",
        "keyword = \"AYUSH\"\n",
        "key = generateKey(string, keyword)\n",
        "cipher_text = cipherText(string,key)\n",
        "print(\"Encrypted :\", cipher_text)\n",
        "original_text = originalText(cipher_text,key)\n",
        "print(\"Decrypted :\", original_text)"
      ],
      "metadata": {
        "id": "sWfsqvMEZxPq",
        "colab": {
          "base_uri": "https://localhost:8080/"
        },
        "outputId": "3ed16ab7-edb0-4deb-b152-53c8faa62f10"
      },
      "execution_count": 6,
      "outputs": [
        {
          "output_type": "stream",
          "name": "stdout",
          "text": [
            "Encrypted : RGTRQUQPAIIL\n",
            "Decrypted : RIZZJUSVIBIN\n"
          ]
        }
      ]
    }
  ]
}
