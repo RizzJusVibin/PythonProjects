{
  "nbformat": 4,
  "nbformat_minor": 0,
  "metadata": {
    "colab": {
      "name": "CaesarShiftNotebook.ipynb",
      "provenance": []
    },
    "kernelspec": {
      "name": "python3",
      "display_name": "Python 3"
    },
    "language_info": {
      "name": "python"
    }
  },
  "cells": [
    {
      "cell_type": "markdown",
      "source": [
        "Caesar Shift Cipher\n",
        "\n",
        "This is my Caesar Shift Cipher that uses functions, lists, and for loops."
      ],
      "metadata": {
        "id": "86yUnbXhYTik"
      }
    },
    {
      "cell_type": "code",
      "source": [
        "alpha = \"ABCDEFGHIJKLMNOPQRSTUVWXYZ\"#Creates a variable with the alphabet in all capital letters\n",
        "\n",
        "def caesar_encode(text, n):#Creates a function with the constraints of variables text and n.\n",
        "  answer_list = []#Creates a list\n",
        "  for letter in text: #letter is a varible and is counting in text, example what is 0 index in text, = t\n",
        "    ind = alpha.index(letter)# What is that index of the letter in alpha\n",
        "    ind +=n #here we are adding the shift to the index.\n",
        "    ind %=26# ind = ind%26\n",
        "    answer_list.append(alpha[ind])#Appends the letter in the new list\n",
        "  return \"\".join(answer_list)#return the strings fromt he list\n",
        "\n",
        "\n",
        "def caesar_decode(text, n):#Creates function to decode the text with the constraints of variables text and n.\n",
        "  answer_list = []#Creates a list\n",
        "  for letter in text:#For the letter in variable text\n",
        "    ind = alpha.index(letter)#Will find the letter in the alphabet\n",
        "    ind -=n # or ind == n, ind should be less than n\n",
        "    ind %=26#ind should be in mod 26\n",
        "    answer_list.append(alpha[ind])#Should append the letter from the alphabet in the list\n",
        "  return \"\".join(answer_list)#Will join the decoded letters into a word\n",
        "\n",
        "\n",
        "text = input(\"Enter text:\")#User inputs a text\n",
        "text = text.upper()#Turns user inputs text to all uppercase letters\n",
        "\n",
        "\n",
        "test = \"HELLOWORLD\"#Test is equal to the string HELLOWORLD\n",
        "shift = 1#The shift for the encode = 1\n",
        "enc = caesar_encode(text, shift)#enc = function caesar encode\n",
        "dec = caesar_decode(enc, shift)#dec = function caesar decode\n",
        "print(enc)#Prints the function enc\n",
        "print(dec)#Prints the function dec\n",
        " #If this worked, dec should be the same as test!"
      ],
      "metadata": {
        "id": "4C0-TFxUYxI0"
      },
      "execution_count": null,
      "outputs": []
    }
  ]
}