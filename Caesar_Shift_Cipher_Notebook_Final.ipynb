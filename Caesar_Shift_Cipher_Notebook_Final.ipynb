{
  "nbformat": 4,
  "nbformat_minor": 0,
  "metadata": {
    "colab": {
      "name": "Caesar_Shift_Cipher_Notebook_Final.ipynb",
      "provenance": []
    },
    "kernelspec": {
      "name": "python3",
      "display_name": "Python 3"
    },
    "language_info": {
      "name": "python"
    }
  },
  "cells": [
    {
      "cell_type": "markdown",
      "source": [
        "Caesar Shift\n",
        "\n",
        "This is a Caesar Shift code that uses functions, lists, index, and letter manipulation to encode and decode text in the form of a Caesar Shift"
      ],
      "metadata": {
        "id": "Cc42hyWFUy_W"
      }
    },
    {
      "cell_type": "code",
      "source": [
        "alpha = \"ABCDEFGHIJKLMNOPQRSTUVWXYZ\"#Creates a variable with the alphabet in all capital letters"
      ],
      "metadata": {
        "id": "NEUKQLvH-XdH"
      },
      "execution_count": 1,
      "outputs": []
    },
    {
      "cell_type": "markdown",
      "source": [
        "This function adds the value of n to the index of the letters in the phrase to encode the message."
      ],
      "metadata": {
        "id": "PfLsL29u-asF"
      }
    },
    {
      "cell_type": "code",
      "source": [
        "def caesar_encode(text, n):#Creates a function with the constraints of variables text and n.\n",
        "  answer_list = []#Creates a list\n",
        "  for letter in text: #letter is a varible and is counting in text, example what is 0 index in text, = t\n",
        "    ind = alpha.index(letter)# What is that index of the letter in alpha\n",
        "    ind +=n #here we are adding the shift to the index.\n",
        "    ind %=26# ind = ind%26\n",
        "    answer_list.append(alpha[ind])#Appends the letter in the new list\n",
        "  return \"\".join(answer_list)#return the strings fromt he list"
      ],
      "metadata": {
        "id": "kZlP9RZy-k6c"
      },
      "execution_count": 2,
      "outputs": []
    },
    {
      "cell_type": "markdown",
      "source": [
        "This function subtracts the value of n in the scrambled word, and reverts the scrambled word to the original text"
      ],
      "metadata": {
        "id": "yYJ3fGql--1f"
      }
    },
    {
      "cell_type": "code",
      "source": [
        "def caesar_decode(text, n):#Creates function to decode the text with the constraints of variables text and n.\n",
        "  answer_list = []#Creates a list\n",
        "  for letter in text:#For the letter in variable text\n",
        "    ind = alpha.index(letter)#Will find the letter in the alphabet\n",
        "    ind -=n # or ind == n, ind should be less than n\n",
        "    ind %=26#ind should be in mod 26\n",
        "    answer_list.append(alpha[ind])#Should append the letter from the alphabet in the list\n",
        "  return \"\".join(answer_list)#Will join the decoded letters into a word"
      ],
      "metadata": {
        "id": "uqzs-nykVKqF"
      },
      "execution_count": 3,
      "outputs": []
    },
    {
      "cell_type": "markdown",
      "source": [
        "This is the code needed for the code to work, what the variables are and the user input"
      ],
      "metadata": {
        "id": "sUZDP6MY_e1c"
      }
    },
    {
      "cell_type": "code",
      "source": [
        "text = input(\"Enter text:\")#User inputs a text\n",
        "text = text.upper()#Turns user inputs text to all uppercase letters\n",
        "test = \"HELLOWORLD\"#Test is equal to the string HELLOWORLD\n",
        "shift = 1#The shift for the encode = 1\n",
        "enc = caesar_encode(text, shift)#enc = function caesar encode\n",
        "dec = caesar_decode(enc, shift)#dec = function caesar decode\n",
        "print(enc)#Prints the function enc\n",
        "print(dec)#Prints the function dec\n",
        " #If this worked, dec should be the same as test!"
      ],
      "metadata": {
        "colab": {
          "base_uri": "https://localhost:8080/"
        },
        "id": "MvxlS_1B_kDh",
        "outputId": "e4711bef-e611-441d-beb7-872a67c31115"
      },
      "execution_count": 4,
      "outputs": [
        {
          "output_type": "stream",
          "name": "stdout",
          "text": [
            "Enter text:BABABOOEY\n",
            "CBCBCPPFZ\n",
            "BABABOOEY\n"
          ]
        }
      ]
    }
  ]
}