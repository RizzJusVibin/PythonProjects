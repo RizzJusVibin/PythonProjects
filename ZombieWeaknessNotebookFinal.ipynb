{
  "nbformat": 4,
  "nbformat_minor": 0,
  "metadata": {
    "colab": {
      "name": "ZombieWeaknessNotebookFinal.ipynb",
      "provenance": []
    },
    "kernelspec": {
      "name": "python3",
      "display_name": "Python 3"
    },
    "language_info": {
      "name": "python"
    }
  },
  "cells": [
    {
      "cell_type": "markdown",
      "source": [
        "Zombie Weakness Code\n",
        "\n",
        "This is the code for my zombie weakness game, that uses lists, inputs, and if else statements."
      ],
      "metadata": {
        "id": "JgJ-ELWLW4aD"
      }
    },
    {
      "cell_type": "code",
      "source": [
        "listweapons = [\"Machete\", \"Glock\", \"Rock\", \"Hunting Rifle\", \"Rocket Launcher\", \"Gernade\"]#Creates a list with a list of weapons to select from\n",
        "zombieWeakness = listweapons[2]#Selects the second weapon rock in the list as the zombie weakness\n",
        "print(\"There is a zombie about to attack you, but you have a moment to pick one of these options. Prepare to fight by picking one of these weapons!\" + str(listweapons))#Creates text for the user to read the list of weapons\n",
        "choice = int(input(\"Pick an option. You can press 1 to select a given weapon, or press 2 to select your own weapon. \"))#Gives the user the option to input their own weapon or select from the list of weapons\n",
        "if choice == 1: #Creates an if statement, if the user inputs number 1\n",
        "  userchoicew = input(\"Pick from the weapons up above 0-5 which weapon you will have: \")#Text to give the user the choice to select the weapons in the given list\n",
        "  if userchoicew == \"2\": #If the user chose 2\n",
        "    print(\"You have won the fight!\")#Will print that they have won the fight\n",
        "  else:#If another option picked\n",
        "    print(\"You have lost the fight!\")#If they picked anything other than two, they will get text to tell them that they lost.\n",
        "\n",
        "if choice == 2:#If the user input 2\n",
        "  userweapon = input(\"What is your new weapon? \")#The user will input a weapon of their choice\n",
        "  if userweapon in listweapons:#If the weapon that the user inputted in the console is the same as one in the list\n",
        "    userchoicesame = input(\"Pick from the weapons up above 0-5 which weapon you will have since the weapon you chose was already in the list: \")#Will have the user select from the given list if their weapon is in the list\n",
        "    if userchoicesame == \"2\":#If the user selects 2 again\n",
        "      print(\"You have won the fight!\")#They win the interaction \n",
        "    else:#Else, if there is another selection\n",
        "      print(\"You have lost the fight!\")#They will lose the interaction\n",
        "  else:#Else\n",
        "    listweapons.append(userweapon)#The weapon that the user inputted will be added to the list\n",
        "    print(\"Your new list is \" + str(listweapons))#Will print the new list of weapons\n",
        "    userinputwithnewweapon = int(input(\"Please pick out of your new list 0-6 to select a weapon to fight the zombie: \"))#Will now have the user select from the new list with their weapon\n",
        "    if userinputwithnewweapon == 2:#If the user now inputs weapon 2\n",
        "      print(\"You have won the battle\")#They have won\n",
        "    else:#Else, if other option picked\n",
        "      print(\"You have lost the battle\")#The user will lose the battle"
      ],
      "metadata": {
        "colab": {
          "base_uri": "https://localhost:8080/"
        },
        "id": "veV8wtdlXICm",
        "outputId": "0185f308-feaa-4300-d86c-9501da1b26cd"
      },
      "execution_count": 1,
      "outputs": [
        {
          "output_type": "stream",
          "name": "stdout",
          "text": [
            "There is a zombie about to attack you, but you have a moment to pick one of these options. Prepare to fight by picking one of these weapons!['Machete', 'Glock', 'Rock', 'Hunting Rifle', 'Rocket Launcher', 'Gernade']\n",
            "Pick an option. You can press 1 to select a given weapon, or press 2 to select your own weapon. 2\n",
            "What is your new weapon? New Weapon\n",
            "Your new list is ['Machete', 'Glock', 'Rock', 'Hunting Rifle', 'Rocket Launcher', 'Gernade', 'New Weapon']\n",
            "Please pick out of your new list 0-6 to select a weapon to fight the zombie: 2\n",
            "You have won the battle\n"
          ]
        }
      ]
    }
  ]
}