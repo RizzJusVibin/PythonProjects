{
  "nbformat": 4,
  "nbformat_minor": 0,
  "metadata": {
    "colab": {
      "name": "XO1ZombieWeaknessNotebook2022.ipynb",
      "provenance": []
    },
    "kernelspec": {
      "name": "python3",
      "display_name": "Python 3"
    },
    "language_info": {
      "name": "python"
    }
  },
  "cells": [
    {
      "cell_type": "markdown",
      "source": [
        "# ***Zombie Weakness Code***\n",
        "\n",
        "This is the code for my zombie weakness game, that uses lists, inputs, and if else statements."
      ],
      "metadata": {
        "id": "JgJ-ELWLW4aD"
      }
    },
    {
      "cell_type": "markdown",
      "source": [
        "*   Line 1: This is the list of weapons that the user will pick from in order to select the correct zombie weakness, between 0 and 5\n",
        "*   Line 2: This is the variable that the zombie weakness will be index 2 of the list, which is a rock\n",
        "*   Line 3: This will print text for the reader that describes the zombie situation, and the weapons that they have in the given list\n",
        "*   Line 4: This will give the user a choice to pick between a weapon in the given list, and or input their own weapon to add to the list and then pick\n",
        "\n",
        "**If the user selects from the given list**\n",
        "\n",
        "*   Line 5: This is the if statement that will run if the user inputs 1, which lets them select from the given list\n",
        "*   Line 6: This is the input statement that the user will select between 0 and 5 for the weapon that they want in the list\n",
        "*   Line 7: This is for the choice 2, which is a rock in the given list\n",
        "*   Line 8: This is for if the user inputted 2 as their weapon of choice, which is a rock, then they will have won the battle\n",
        "*   Line 9: This is for if the user inputted something other than 2, so an else\n",
        "*   Line 10: The user would have lost the fight\n",
        "\n",
        "**If the user selects their own weapon**\n",
        "\n",
        "*   Line 11: This is the if statement, if the user inputted 2\n",
        "*   Line 12: This is a variable for the user inputted weapon, and it will be an input for whatever the user inputs\n",
        "*   Line 13: This is for if the weapon that the user inputted is the same as one of the weapons in the given list\n",
        "*   Line 14: This is for the user to just pick from the 6 given weapons since their input was the same\n",
        "*   Line 15: This is for if the user selects 2 in the given list after inputting their own weapon and it being the same\n",
        "*   Line 16: The user would win the fight since they still selected rock\n",
        "*   Line 17: This is if the user picks a different number from the given list\n",
        "*   Line 18: The user would still lose the fight\n",
        "*   Line 19: If the user's weapon was something else than a weapon in the given list\n",
        "*   Line 20: This line will append the user's inputted weapon into the given list, so there will be another option to pick from\n",
        "*   Line 21: This will print the new list of wepaons, which is the given list plus the new inputted weapon\n",
        "*   Line 22: This line will be the new input of the user, between 0 and 6 of the list, the number will be which item that they select from the list\n",
        "*   Line 23: If the user inputted 2, which again is rock\n",
        "*   Line 24: The user would have won the battle\n",
        "*   Line 25: If the user inputted anything other than 2\n",
        "*   Line 26: The user would lose the fight\n",
        "\n",
        "\n",
        "\n",
        "\n",
        "\n"
      ],
      "metadata": {
        "id": "spu60MAnQrIy"
      }
    },
    {
      "cell_type": "code",
      "source": [
        "listweapons = [\"Machete\", \"Glock\", \"Rock\", \"Hunting Rifle\", \"Rocket Launcher\", \"Gernade\"]\n",
        "zombieWeakness = listweapons[2]\n",
        "print(\"There is a zombie about to attack you, but you have a moment to pick one of these options. Prepare to fight by picking one of these weapons!\" + str(listweapons))\n",
        "choice = int(input(\"Pick an option. You can press 1 to select a given weapon, or press 2 to select your own weapon. \"))\n",
        "\n",
        "if choice == 1: \n",
        "  userchoicew = input(\"Pick from the weapons up above 0-5 which weapon you will have: \")\n",
        "  if userchoicew == \"2\": \n",
        "    print(\"You have won the fight!\")\n",
        "  else:\n",
        "    print(\"You have lost the fight!\")\n",
        "\n",
        "if choice == 2:\n",
        "  userweapon = input(\"What is your new weapon? \")\n",
        "  if userweapon in listweapons:\n",
        "    userchoicesame = input(\"Pick from the weapons up above 0-5 which weapon you will have since the weapon you chose was already in the list: \")\n",
        "    if userchoicesame == \"2\":\n",
        "      print(\"You have won the fight!\")\n",
        "    else:\n",
        "      print(\"You have lost the fight!\")\n",
        "      \n",
        "  else:\n",
        "    listweapons.append(userweapon)\n",
        "    print(\"Your new list is \" + str(listweapons))\n",
        "    userinputwithnewweapon = int(input(\"Please pick out of your new list 0-6 to select a weapon to fight the zombie: \"))\n",
        "    if userinputwithnewweapon == 2:\n",
        "      print(\"You have won the battle\")\n",
        "    else:\n",
        "      print(\"You have lost the battle\")"
      ],
      "metadata": {
        "colab": {
          "base_uri": "https://localhost:8080/"
        },
        "id": "ACeKIxxKQrWa",
        "outputId": "7cbf5256-05e7-4018-ceaf-bc6c172b0350"
      },
      "execution_count": 1,
      "outputs": [
        {
          "output_type": "stream",
          "name": "stdout",
          "text": [
            "There is a zombie about to attack you, but you have a moment to pick one of these options. Prepare to fight by picking one of these weapons!['Machete', 'Glock', 'Rock', 'Hunting Rifle', 'Rocket Launcher', 'Gernade']\n",
            "Pick an option. You can press 1 to select a given weapon, or press 2 to select your own weapon. 2\n",
            "What is your new weapon? Tank\n",
            "Your new list is ['Machete', 'Glock', 'Rock', 'Hunting Rifle', 'Rocket Launcher', 'Gernade', 'Tank']\n",
            "Please pick out of your new list 0-6 to select a weapon to fight the zombie: 2\n",
            "You have won the battle\n"
          ]
        }
      ]
    }
  ]
}