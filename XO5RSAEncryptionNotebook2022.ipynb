{
  "nbformat": 4,
  "nbformat_minor": 0,
  "metadata": {
    "colab": {
      "name": "XO5RSAEncryptionNotebook2022.ipynb",
      "provenance": []
    },
    "kernelspec": {
      "name": "python3",
      "display_name": "Python 3"
    },
    "language_info": {
      "name": "python"
    }
  },
  "cells": [
    {
      "cell_type": "markdown",
      "source": [
        "# ***RSA Encryption Code***\n",
        "\n",
        "This is my RSA encryption and decryption code that uses lists, functions, if statements, and lots of multiplication, division, addition, and subtraction"
      ],
      "metadata": {
        "id": "yRaVOFwWgy39"
      }
    },
    {
      "cell_type": "markdown",
      "source": [
        "**This importing math, alphabet, and functions are needed and provided to help us find the inverse of numbers in a certain mod.**\n",
        "*   Line 1: Imports math functions from an outside library/libraries \n",
        "*   Line 2: Creates a variable which = the whole alphabet\n",
        "*   Function mod_inverse_helper and mod_inverse help find the inverses of numbers in certain mods\n",
        "\n"
      ],
      "metadata": {
        "id": "Z2JHT4NJBTdu"
      }
    },
    {
      "cell_type": "code",
      "source": [
        "import math\n",
        "alpha = \"ABCDEFGHIJKLMNOPQRSTUVWXYZ\"\n",
        "\n",
        "def mod_inverse_helper(a, b): #\n",
        "    q, r = a//b, a%b   \n",
        "    if r == 1:\n",
        "        return (1, -1 * q)\n",
        "    u, v = mod_inverse_helper(b, r)\n",
        "    return (v, -1 * q * v + u)\n",
        "\n",
        "def mod_inverse(a, m): \n",
        "    assert math.gcd(a, m) == 1, \"You're trying to invert \" + str(a) + \" in mod \" + str(m) + \" and that doesn't work!\"\n",
        "    return mod_inverse_helper(m, a)[1] % m"
      ],
      "metadata": {
        "id": "LYbvKiS9Bbi5"
      },
      "execution_count": 1,
      "outputs": []
    },
    {
      "cell_type": "markdown",
      "source": [
        "**The function convert_to_num as a summary takes the word and converts it into a number by taking the index of each letter and multiplying that index by 26 to an increasing power. n_gram splits the word up into sections, maybe by 5 letters at a time**\n",
        "*   Line 1: Creates a new function convert_to_num with the arguemet ngram\n",
        "*   Line 2: Creates a new variable f_num = 0\n",
        "*   Line 3: Starts a for loop, for the index in the range of the length of ngram\n",
        "*   Line 4: Finds ngrams index values in alpha\n",
        "*   Line 5: Creates a new variable exp = 26 ^ i which increases by 1 when the loop runs\n",
        "*   Line 6: Updates f_num = f_num + k + exp\n",
        "*   Line 7: Will return f_num"
      ],
      "metadata": {
        "id": "Um6rcV-tCCxH"
      }
    },
    {
      "cell_type": "code",
      "source": [
        "def convert_to_num(ngram):\n",
        "  f_num=0 \n",
        "  for i in range(len(ngram)): \n",
        "    k = alpha.index(ngram[i]) \n",
        "    exp = 26**i \n",
        "    f_num = f_num + k * exp \n",
        "  return f_num "
      ],
      "metadata": {
        "id": "wV3sPDaCCHbl"
      },
      "execution_count": 2,
      "outputs": []
    },
    {
      "cell_type": "markdown",
      "source": [
        "**The function convert_to_text as a summary takes the convert_to_num number and convert it back to a text by using floor division**\n",
        "*   Line 1: Creates a new function with the arguements num and n\n",
        "*   Line 2: Creates a new empty list\n",
        "*   Line 3: Starts a for loop, for the index in the range of n\n",
        "*   Line 4: Creates a new variable f_let = num%26\n",
        "*   Line 5: Creates a new variable num = num//26\n",
        "*   Line 6: Uses the previous empty list to put letters together when converting from numbers to text\n",
        "*   Line 7: Returns the list joined together to form one word"
      ],
      "metadata": {
        "id": "gKXmBbEKCIu3"
      }
    },
    {
      "cell_type": "code",
      "source": [
        "def convert_to_text(num, n):\n",
        "  text_list=[]\n",
        "  for i in range(n):\n",
        "    f_let = num%26 \n",
        "    num = (num//26) \n",
        "    text_list.append(alpha[f_let])\n",
        "  return''.join(text_list)"
      ],
      "metadata": {
        "id": "zef7C1_qCVlz"
      },
      "execution_count": 3,
      "outputs": []
    },
    {
      "cell_type": "markdown",
      "source": [
        "**The function rsa_encode as a summary takes the phrase, converts it to a number, and takes that number to the power of e in mod m**\n",
        "*   Line 1: Creates a new function rsa_encode with the arguements text, m, and e\n",
        "*   Line 2: Creates a new variable which acts as a callback function to convert the text to a number\n",
        "*   Line 3: Creates a new variable to make that number larger by multiplying it to a large power in a big mod\n",
        "*   Line 4: The last line will return the large number\n",
        "\n",
        "\n"
      ],
      "metadata": {
        "id": "kvu8XmTjDcKK"
      }
    },
    {
      "cell_type": "code",
      "source": [
        "def rsa_encode(text, m, e):\n",
        "  num = convert_to_num(text)\n",
        "  rsa_num = pow(num,e,m)\n",
        "  return rsa_num"
      ],
      "metadata": {
        "id": "Ux9yZ8kQEKy_"
      },
      "execution_count": 4,
      "outputs": []
    },
    {
      "cell_type": "markdown",
      "source": [
        "**The function rsa_decode as a summary takes the previous large number, multiplies it to the power of d which a mod inverse, in a certain mod, and will convert that number back to a letter**\n",
        "*   Line 1: Creates a new function rsa_decode, with the arguements num, m, d, and l\n",
        "*   Line 2: Updates the old variable to take the large number, multiply it to the power of d, in mod m\n",
        "*   Line 3: Creates a new variable which is a call back function to convert that number back to a letter\n",
        "*   Line 4: Will return the word"
      ],
      "metadata": {
        "id": "FOmYCbVREV5w"
      }
    },
    {
      "cell_type": "code",
      "source": [
        "def rsa_decode(num, m, d, l):\n",
        "  rsa_num = pow(num,d,m)\n",
        "  word = convert_to_text(rsa_num,l)\n",
        "  return word"
      ],
      "metadata": {
        "id": "fqGkvRaTFaZQ"
      },
      "execution_count": 5,
      "outputs": []
    },
    {
      "cell_type": "markdown",
      "source": [
        "**This function get_d helps find the number to divide by when decrypting the cipher**\n",
        "*   Line 1: Creates new function get_d with the arguements p, q, and e\n",
        "*   Line 2: Creates a new variable = p-1 * q-1\n",
        "*   Line 3: Creates a new variable which acts as a call function to find the inverse of e in mod t\n",
        "*   Line 4: Returns mit\n",
        "\n"
      ],
      "metadata": {
        "id": "zGxN7T7qFdtL"
      }
    },
    {
      "cell_type": "code",
      "source": [
        "def get_d(p, q, e):\n",
        "  t = (p-1) * (q-1)\n",
        "  mit = mod_inverse(e, t)\n",
        "  return mit"
      ],
      "metadata": {
        "id": "2JSvjknbFlVO"
      },
      "execution_count": 6,
      "outputs": []
    },
    {
      "cell_type": "markdown",
      "source": [
        "**All of the code needed for the rest of the code to work**\n",
        "*   Line 1: Creates a new variable text = the phrase\n",
        "*   Line 2: Creates a new variable l = length of text\n",
        "*   Line 3: Creates a new variable p = a big number\n",
        "*   Line 4: Creates a new variable q = a big number\n",
        "*   Line 5: Creates a new variable e = a big number\n",
        "*   Line 6: Creates a new variable m = p*q\n",
        "*   Line 7: Creates a new variable d which is a call back function to get d\n",
        "*   Line 8: Creates a new variable which acts like a call back function for get_d\n",
        "*   Line 9: Creates a new variable which acts like a call back function for rsa_decode\n",
        "*   Line 10: Prints enc\n",
        "*   Line 11: Prints dec\n",
        "\n"
      ],
      "metadata": {
        "id": "rAqEFTArFsrj"
      }
    },
    {
      "cell_type": "code",
      "source": [
        "text = \"THEFIVEBOXINGWIZARDSJUMPQUICKLY\" #Text for the entire code\n",
        "l = len(text) #Length of text above\n",
        "p = 292361466231755597564095925310764764819 #Prime number 1\n",
        "q = 307125506157764866722739041634199200019 #Prime number 2\n",
        "e = 65537 #Random number to the power\n",
        "m = p * q #m= p times q\n",
        "d = get_d(p, q, e) #d = function get_d \n",
        "enc = rsa_encode(text, m, e) #enc=rsa_encode function\n",
        "dec = rsa_decode(enc, m, d, l) #dec = rsa_decode function\n",
        "print(enc) #Will print encode which will be a long number\n",
        "print(dec) #Will print decode which will be text"
      ],
      "metadata": {
        "colab": {
          "base_uri": "https://localhost:8080/"
        },
        "id": "kVhxtlmYhLzu",
        "outputId": "105864b2-ff5f-4112-c19d-196d6eb338e9"
      },
      "execution_count": 7,
      "outputs": [
        {
          "output_type": "stream",
          "name": "stdout",
          "text": [
            "34028226424022141662679340496616735128390579906964150145035108807466384852365\n",
            "THEFIVEBOXINGWIZARDSJUMPQUICKLY\n"
          ]
        }
      ]
    }
  ]
}
