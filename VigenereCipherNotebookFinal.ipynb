{
  "nbformat": 4,
  "nbformat_minor": 0,
  "metadata": {
    "colab": {
      "name": "VigenereCipherNotebookFinal.ipynb",
      "provenance": []
    },
    "kernelspec": {
      "name": "python3",
      "display_name": "Python 3"
    },
    "language_info": {
      "name": "python"
    }
  },
  "cells": [
    {
      "cell_type": "markdown",
      "source": [
        "Vigenere Cipher\n",
        "\n",
        "This is my Vigenere Cipher code that uses functions, lists, variables, if else loops, and for loops."
      ],
      "metadata": {
        "id": "84fH2HRAZW4p"
      }
    },
    {
      "cell_type": "code",
      "source": [
        "# https://www.geeksforgeeks.org/vigenere-cipher/\n",
        "\n",
        "alpha = \"ABCDEFGHIJKLMNOPQRSTUVWXYZ\" \n",
        "\n",
        "'''\n",
        "Creates a function generateKey and the restrictions are string and key\n",
        "The variable key = a list of k e y all index 0,1,2\n",
        "If the length of string is equal to the length of key\n",
        "The code will return the key\n",
        "If not\n",
        "For the index in the range of the length of the variable string minues the length of the key\n",
        "It will append the index of the key variable list index\n",
        "'''\n",
        "def generateKey(string, key):\n",
        "  key = list(key)\n",
        "  if len(string) == len(key):\n",
        "    return(key)\n",
        "  else:\n",
        "    for i in range(len(string)-len(key)):\n",
        "      key.append(key[i])\n",
        "    return\"\" . join(key)\n",
        "'''\n",
        "Defines a function cipherText and the restrictions are to string and key\n",
        "cipher_text is made to be a list\n",
        "For the index in the range of the length of the string\n",
        "Variable m_num = variable alpha's index of the index of the string variable. Basically the index of the string will be put in the alphabets index\n",
        "Variable k_num = variable alpha's index of the index of the key variable. Basically the index of the string will be put in the alphabets index\n",
        "Variable e_num = variable m_num + variable k_num and the %26 will make sure the problem will properly repeat with the range of the alphabet\n",
        "cipher_text.append(alpha[e_num]) makes sure that the equation in e_num becomes an encrypted text that can be called to be displayed\n",
        "return \"\" . join(cipher_text) will make sure that the code above can be called back/returns it\n",
        "'''\n",
        "def cipherText(string, key):\n",
        "  cipher_text = []\n",
        "  for i in range(len(string)):\n",
        "    m_num = alpha.index(string[i])\n",
        "    k_num = alpha.index(key[i])\n",
        "    e_num = (m_num+k_num) %26\n",
        "    cipher_text.append(alpha[e_num])\n",
        "  return \"\" . join(cipher_text)\n",
        "'''\n",
        "Defines a function originalText and the restrictions are to string and key\n",
        "cipher_text is made to be a list\n",
        "For the index in the range of the length of the string\n",
        "Variable m_num = variable alpha's index of the index of the string variable. Basically the index of the string will be put in the alphabets index\n",
        "Variable k_num = variable alpha's index of the index of the key variable. Basically the index of the string will be put in the alphabets index\n",
        "Variable e_num = variable m_num - variable k_num and the %26 will make sure the problem will properly repeat with the range of the alphabet\n",
        "cipher_text.append(alpha[e_num]) makes sure that the equation in e_num becomes a decrypted text that can be called to be displayed\n",
        "return \"\" . join(cipher_text) will make sure that the code above can be called back/returns it\n",
        "'''\n",
        "def originalText(string, key):\n",
        "  cipher_text = []\n",
        "  for i in range(len(string)):\n",
        "    m_num = alpha.index(string[i])\n",
        "    k_num = alpha.index(key[i])\n",
        "    e_num = (m_num-k_num) %26\n",
        "    cipher_text.append(alpha[e_num])\n",
        "  return \"\" . join(cipher_text)\n",
        "'''\n",
        "Variable string = GEEKSFORGEEEKS which will be used to run all of the functions above\n",
        "Variable keyword = AYUSH which will be used to run all of the functions above\n",
        "Variable key = the function generatekey with the restrictions string and keyword\n",
        "Variable cipher_text = the function cipherText with the restrictions string and key\n",
        "Will Encrypted and the cipher_text function to display the encoded message in the console\n",
        "Variable original_text = the function originalText with the restrictions cipher_text and key\n",
        "Will print Decrypted and the variable original text\n",
        "In conclusion, cipher_text will print GCYCZFMLYLEIM and original_text will print GEEKSFORGEEKS using a keyword AYUSH\n",
        "'''\n",
        "string = \"GEEKSFORGEEKS\"\n",
        "keyword = \"AYUSH\"\n",
        "key = generateKey(string, keyword)\n",
        "cipher_text = cipherText(string,key)\n",
        "print(\"Encrypted :\", cipher_text)\n",
        "original_text = originalText(cipher_text,key)\n",
        "print(\"Decrypted :\", original_text)"
      ],
      "metadata": {
        "id": "sWfsqvMEZxPq",
        "colab": {
          "base_uri": "https://localhost:8080/"
        },
        "outputId": "b535d354-1769-4c08-a600-17666bc45ade"
      },
      "execution_count": 1,
      "outputs": [
        {
          "output_type": "stream",
          "name": "stdout",
          "text": [
            "Encrypted : GCYCZFMLYLEIM\n",
            "Decrypted : GEEKSFORGEEKS\n"
          ]
        }
      ]
    }
  ]
}