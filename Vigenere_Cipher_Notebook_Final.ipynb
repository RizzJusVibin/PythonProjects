{
  "nbformat": 4,
  "nbformat_minor": 0,
  "metadata": {
    "colab": {
      "name": "Vigenere_Cipher_Notebook_Final.ipynb",
      "provenance": []
    },
    "kernelspec": {
      "name": "python3",
      "display_name": "Python 3"
    },
    "language_info": {
      "name": "python"
    }
  },
  "cells": [
    {
      "cell_type": "markdown",
      "source": [
        "Vigenere Cipher\n",
        "\n",
        "This is my Vigenere Cipher code that uses functions, lists, variables, if else loops, and for loops."
      ],
      "metadata": {
        "id": "84fH2HRAZW4p"
      }
    },
    {
      "cell_type": "code",
      "source": [
        "alpha = \"ABCDEFGHIJKLMNOPQRSTUVWXYZ\" "
      ],
      "metadata": {
        "id": "CanLOSb40aMn"
      },
      "execution_count": 11,
      "outputs": []
    },
    {
      "cell_type": "markdown",
      "source": [
        "'''\n",
        "Creates a function generateKey and the restrictions are string and key\n",
        "The variable key = a list of k e y all index 0,1,2\n",
        "If the length of string is equal to the length of key\n",
        "The code will return the key\n",
        "If not\n",
        "For the index in the range of the length of the variable string minues the length of the key\n",
        "It will append the index of the key variable list index\n",
        "'''This function basically creates the AYUSH key as a list of numbers"
      ],
      "metadata": {
        "id": "Nj5ZihoD0cR3"
      }
    },
    {
      "cell_type": "code",
      "source": [
        "def generateKey(string, key):\n",
        "  key = list(key)\n",
        "  if len(string) == len(key):\n",
        "    return(key)\n",
        "  else:\n",
        "    for i in range(len(string)-len(key)):\n",
        "      key.append(key[i])\n",
        "    return\"\" . join(key)"
      ],
      "metadata": {
        "id": "i9HNlg_N2A7N"
      },
      "execution_count": 12,
      "outputs": []
    },
    {
      "cell_type": "markdown",
      "source": [
        "'''\n",
        "Defines a function cipherText and the restrictions are to string and key\n",
        "cipher_text is made to be a list\n",
        "For the index in the range of the length of the string\n",
        "Variable m_num = variable alpha's index of the index of the string variable. Basically the index of the string will be put in the alphabets index\n",
        "Variable k_num = variable alpha's index of the index of the key variable. Basically the index of the string will be put in the alphabets index\n",
        "Variable e_num = variable m_num + variable k_num and the %26 will make sure the problem will properly repeat with the range of the alphabet\n",
        "cipher_text.append(alpha[e_num]) makes sure that the equation in e_num becomes an encrypted text that can be called to be displayed\n",
        "return \"\" . join(cipher_text) will make sure that the code above can be called back/returns it\n",
        "'''This function basically adds the index of the letters in the key AYSUH and keyword GEEKSFORGEEKS in mod 26 to create the new scramble of letters"
      ],
      "metadata": {
        "id": "TZ8TE83x2Dy6"
      }
    },
    {
      "cell_type": "code",
      "source": [
        "def cipherText(string, key):\n",
        "  cipher_text = []\n",
        "  for i in range(len(string)):\n",
        "    m_num = alpha.index(string[i])\n",
        "    k_num = alpha.index(key[i])\n",
        "    e_num = (m_num+k_num) %26\n",
        "    cipher_text.append(alpha[e_num])\n",
        "  return \"\" . join(cipher_text)"
      ],
      "metadata": {
        "id": "-fJJWP8I2r1b"
      },
      "execution_count": 13,
      "outputs": []
    },
    {
      "cell_type": "markdown",
      "source": [
        "'''\n",
        "Defines a function originalText and the restrictions are to string and key\n",
        "cipher_text is made to be a list\n",
        "For the index in the range of the length of the string\n",
        "Variable m_num = variable alpha's index of the index of the string variable. Basically the index of the string will be put in the alphabets index\n",
        "Variable k_num = variable alpha's index of the index of the key variable. Basically the index of the string will be put in the alphabets index\n",
        "Variable e_num = variable m_num - variable k_num and the %26 will make sure the problem will properly repeat with the range of the alphabet\n",
        "cipher_text.append(alpha[e_num]) makes sure that the equation in e_num becomes a decrypted text that can be called to be displayed\n",
        "return \"\" . join(cipher_text) will make sure that the code above can be called back/returns it\n",
        "'''This function converts the scrambled letters back into the original phrase by using mod 26 and subtracting the values of AYUSH"
      ],
      "metadata": {
        "id": "Vmv5VNx98xUj"
      }
    },
    {
      "cell_type": "code",
      "source": [
        "def originalText(string, key):\n",
        "  cipher_text = []\n",
        "  for i in range(len(string)):\n",
        "    m_num = alpha.index(string[i])\n",
        "    k_num = alpha.index(key[i])\n",
        "    e_num = (m_num-k_num) %26\n",
        "    cipher_text.append(alpha[e_num])\n",
        "  return \"\" . join(cipher_text)"
      ],
      "metadata": {
        "id": "9wwH6GXG8xj8"
      },
      "execution_count": 14,
      "outputs": []
    },
    {
      "cell_type": "markdown",
      "source": [
        "'''\n",
        "Variable string = GEEKSFORGEEEKS which will be used to run all of the functions above\n",
        "Variable keyword = AYUSH which will be used to run all of the functions above\n",
        "Variable key = the function generatekey with the restrictions string and keyword\n",
        "Variable cipher_text = the function cipherText with the restrictions string and key\n",
        "Will Encrypted and the cipher_text function to display the encoded message in the console\n",
        "Variable original_text = the function originalText with the restrictions cipher_text and key\n",
        "Will print Decrypted and the variable original text\n",
        "In conclusion, cipher_text will print GCYCZFMLYLEIM and original_text will print GEEKSFORGEEKS using a keyword AYUSH\n",
        "'''"
      ],
      "metadata": {
        "id": "mwucuWia70I_"
      }
    },
    {
      "cell_type": "code",
      "source": [
        "string = \"GEEKSFORGEEKS\"\n",
        "keyword = \"AYUSH\"\n",
        "key = generateKey(string, keyword)\n",
        "cipher_text = cipherText(string,key)\n",
        "print(\"Encrypted :\", cipher_text)\n",
        "original_text = originalText(cipher_text,key)\n",
        "print(\"Decrypted :\", original_text)"
      ],
      "metadata": {
        "id": "sWfsqvMEZxPq",
        "colab": {
          "base_uri": "https://localhost:8080/"
        },
        "outputId": "0830fc10-26f4-4aee-89bd-618cbdb9520b"
      },
      "execution_count": 15,
      "outputs": [
        {
          "output_type": "stream",
          "name": "stdout",
          "text": [
            "Encrypted : GCYCZFMLYLEIM\n",
            "Decrypted : GEEKSFORGEEKS\n"
          ]
        }
      ]
    }
  ]
}