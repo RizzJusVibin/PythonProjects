{
  "nbformat": 4,
  "nbformat_minor": 0,
  "metadata": {
    "colab": {
      "name": "XO4AffineCipherNotebook2022.ipynb",
      "provenance": []
    },
    "kernelspec": {
      "name": "python3",
      "display_name": "Python 3"
    },
    "language_info": {
      "name": "python"
    }
  },
  "cells": [
    {
      "cell_type": "markdown",
      "source": [
        "# ***Affine Cipher***\n",
        "This is my affine cipher code that uses functions, variables, lists, and lots of math to encode and decode in the form of the Affine Cipher"
      ],
      "metadata": {
        "id": "Oi7TAe-paRAI"
      }
    },
    {
      "cell_type": "markdown",
      "source": [
        "**This importing math, alphabet, and functions are needed and provided to help us find the inverse of numbers in a certain mod.**\n",
        "\n",
        "A perfect example of this:\n",
        "The inverse of 3 in mod 26 = 9\n",
        "\n",
        "*   Line 1: This imports math functions from other python libraries\n",
        "*   Line 2: This creates the variable alpha, and in it the entire alphabet is there so we can use it for later\n",
        "*   Function mod_inverse_helper helps find the inverse of a number in a certain mod\n",
        "*   Function mod_inverse also uses the importted math to help find that inverse in a certain mod\n",
        "\n",
        "\n",
        "\n"
      ],
      "metadata": {
        "id": "959gJEVeHSO2"
      }
    },
    {
      "cell_type": "code",
      "source": [
        "import math\n",
        "alpha = \"ABCDEFGHIJKLMNOPQRSTUVWXYZ\"\n",
        "\n",
        "def mod_inverse_helper(a, b):\n",
        "    q, r = a//b, a%b\n",
        "    if r == 1:\n",
        "        return (1, -1 * q)\n",
        "    u, v = mod_inverse_helper(b, r)\n",
        "    return (v, -1 * q * v + u)\n",
        "\n",
        "def mod_inverse(a, m):\n",
        "    assert math.gcd(a, m) == 1, \"You're trying to invert \" + str(a) + \" in mod \" + str(m) + \" and that doesn't work!\"\n",
        "    return mod_inverse_helper(m, a)[1] % m"
      ],
      "metadata": {
        "id": "krjYp7knq9aW"
      },
      "execution_count": 1,
      "outputs": []
    },
    {
      "cell_type": "markdown",
      "source": [
        "***Part 1 of the Affine***"
      ],
      "metadata": {
        "id": "AYqL-7oMKUla"
      }
    },
    {
      "cell_type": "markdown",
      "source": [
        "**The function affine_encode as a summary takes the letter index of a word in the alphabet's index, multiplies it by a number, adds a number to that in mod 26, and with the remainder, use that number as an index in alphabet to create a scrambled text**\n",
        "*   Line 1: This creates a new function affine_encode with the arguements text, a, and b\n",
        "*   Line 2: Creates an empty list to use later\n",
        "*   Line 3: This starts a for loop, for the index in the range of the length of variable text\n",
        "*   Line 4: Creates a new variable m_num = variable text's index in alphabet's index\n",
        "*   Line 5: Creates a new variable k_num = m_num * a, so it multiplies the index values by the number value of a\n",
        "*   Line 6: Creates a new variable e_num = k_num + b %26, so it adds the last number and the number value of b in mod 26\n",
        "*   Line 7: Uses the previous empty list to take the previous number, put that in the alphabet's index to get a letter, and repeat to get more letters in the list\n",
        "*   Line 8: Will join the scrambled letters together\n",
        "\n"
      ],
      "metadata": {
        "id": "JRhKRSuQramr"
      }
    },
    {
      "cell_type": "code",
      "source": [
        "def affine_encode(text, a, b):\n",
        "  enc_list=[]\n",
        "  for i in range(len(text)):\n",
        "    m_num = alpha.index(text[i])\n",
        "    k_num = (m_num * a) \n",
        "    e_num = (k_num + b) %26\n",
        "    enc_list.append(alpha[e_num])\n",
        "  return ''.join(enc_list)"
      ],
      "metadata": {
        "id": "TLmM5XBHrzwF"
      },
      "execution_count": 2,
      "outputs": []
    },
    {
      "cell_type": "markdown",
      "source": [
        "**The function affine_decode as a sumamry takes the letter index of a word in the alphabet's index, subtracts the number value of b, and multiplies that number by the mod inverse of variable a in mod 26 to give us the original text.**\n",
        "*   Line 1: This creates a new function affince_decode with the arguements text, a, and b\n",
        "*   Line 2: Creates an empty list to use later\n",
        "*   Line 3: This starts a for loop, for the index in the range of the length of variable text\n",
        "*   Line 4: Creates a new variable m_num = variable text's index in alphabet's index\n",
        "*   Line 5: Creates a new variable k_num = m_num - b, so the last number - the number value of b\n",
        "*   Line 6: Creates a new variable e_num = k_num*mod_inverse(a,26) %26, so basically this takes the last number, multiplies it to get the inverse of that number in mod 26\n",
        "*   Line 7: Uses the previous empty list to take the previous number, put that in the alphabet's index to get a letter, and repeat to get more letters in the list\n",
        "*   Line 8: Will join the scrambled letters together\n",
        "\n"
      ],
      "metadata": {
        "id": "3TTkKKcMsDna"
      }
    },
    {
      "cell_type": "code",
      "source": [
        "def affine_decode(text, a, b):\n",
        "  dec_list=[]\n",
        "  for i in range(len(text)):\n",
        "    m_num = alpha.index(text[i])\n",
        "    k_num = (m_num-b) \n",
        "    e_num = (k_num*mod_inverse(a,26)) %26\n",
        "    dec_list.append(alpha[e_num])\n",
        "  return ''.join(dec_list)"
      ],
      "metadata": {
        "id": "Af6PbgdHsp4a"
      },
      "execution_count": 3,
      "outputs": []
    },
    {
      "cell_type": "markdown",
      "source": [
        "**This code is needed for the functions to work**\n",
        "*   Line 1: Creates a new variable test = RIZZJUSVIBIN\n",
        "*   Line 2: Creates a new variable a = 3\n",
        "*   Line 3: Creates a new variable b = 10\n",
        "*   Line 4: Creates a new variable which acts as a call back function so that enc = affine_encode\n",
        "*   Line 5: Creates a new variable which acts as a call back function so that dec = affince_decode\n",
        "*   Line 6: Prints enc\n",
        "*   Line 7: Prints dec\n",
        "\n"
      ],
      "metadata": {
        "id": "hPzOcOm2su3T"
      }
    },
    {
      "cell_type": "code",
      "source": [
        "test = \"RIZZJUSVIBIN\"\n",
        "a = 3\n",
        "b = 10\n",
        "enc = affine_encode(test, a, b)\n",
        "dec = affine_decode(enc, a, b)\n",
        "print(enc)\n",
        "print(dec)\n",
        "# If this worked, dec should be the same as test!"
      ],
      "metadata": {
        "colab": {
          "base_uri": "https://localhost:8080/"
        },
        "id": "teHFxNxHsuMV",
        "outputId": "3608c9bc-1a24-4eb4-815e-7d4608d27cb7"
      },
      "execution_count": 4,
      "outputs": [
        {
          "output_type": "stream",
          "name": "stdout",
          "text": [
            "JIHHLSMVINIX\n",
            "RIZZJUSVIBIN\n"
          ]
        }
      ]
    },
    {
      "cell_type": "markdown",
      "source": [
        "***Part 2 of the Affine*** "
      ],
      "metadata": {
        "id": "B7bwqNsxQYgE"
      }
    },
    {
      "cell_type": "markdown",
      "source": [
        "**The function convert_to_num as a summary takes the word and converts it into a number by taking the index of each letter and multiplying that index by 26 to an increasing power. n_gram splits the word up into sections, maybe by 5 letters at a time**\n",
        "*   Line 1: Creates a new function convert_to_num with the arguemet ngram\n",
        "*   Line 2: Creates a new variable f_num = 0\n",
        "*   Line 3: Starts a for loop, for the index in the range of the length of ngram\n",
        "*   Line 4: Finds ngrams index values in alpha\n",
        "*   Line 5: Creates a new variable exp = 26 ^ i which increases by 1 when the loop runs\n",
        "*   Line 6: Updates f_num = f_num + k + exp\n",
        "*   Line 7: Will return f_num\n",
        "\n",
        "\n",
        "\n"
      ],
      "metadata": {
        "id": "9snYopNPtQGZ"
      }
    },
    {
      "cell_type": "code",
      "source": [
        "def convert_to_num(ngram):\n",
        "  f_num=0\n",
        "  for i in range(len(ngram)):\n",
        "    k = alpha.index(ngram[i])\n",
        "    exp = 26**i\n",
        "    f_num = f_num + k * exp\n",
        "  return f_num"
      ],
      "metadata": {
        "id": "HsXNWmuetlDg"
      },
      "execution_count": 5,
      "outputs": []
    },
    {
      "cell_type": "markdown",
      "source": [
        "**The function convert_to_text as a summary takes the convert_to_num number and convert it back to a text by using floor division**\n",
        "*   Line 1: Creates a new function with the arguements num and n\n",
        "*   Line 2: Creates a new empty list\n",
        "*   Line 3: Starts a for loop, for the index in the range of n\n",
        "*   Line 4: Creates a new variable f_let = num%26\n",
        "*   Line 5: Creates a new variable num = num//26\n",
        "*   Line 6: Uses the previous empty list to put letters together when converting from numbers to text\n",
        "*   Line 7: Returns the list joined together to form one word\n",
        "\n"
      ],
      "metadata": {
        "id": "EHgaBy8vt8Br"
      }
    },
    {
      "cell_type": "code",
      "source": [
        "def convert_to_text(num, n):\n",
        "  text_list=[]\n",
        "  for i in range(n):\n",
        "    f_let = num%26\n",
        "    num = (num//26)\n",
        "    text_list.append(alpha[f_let])\n",
        "  return''.join(text_list)"
      ],
      "metadata": {
        "id": "e8hWTR9FuRmD"
      },
      "execution_count": 6,
      "outputs": []
    },
    {
      "cell_type": "markdown",
      "source": [
        "**This code is needed for the functions to work**\n",
        "*   Line 1: Creates a variable test = the phrase\n",
        "*   Line 2: Creates a variable l = length of test\n",
        "*   Line 3: Creates a variable = convert_to_num with the arguement test\n",
        "*   Line 4: Creates a variable = convert_to_text\n",
        "*   Line 5: Will print variable num\n",
        "*   Line 6: Will print variable answer\n",
        "\n"
      ],
      "metadata": {
        "id": "GTaX7Ey2waTk"
      }
    },
    {
      "cell_type": "code",
      "source": [
        "test = \"THEQUICKBROWNFOXJUMPEDOVERTHELAZYDOG\"\n",
        "l = len(test)\n",
        "num = convert_to_num(test)\n",
        "answer = convert_to_text(num, l)\n",
        "print(num)\n",
        "print(answer)"
      ],
      "metadata": {
        "colab": {
          "base_uri": "https://localhost:8080/"
        },
        "id": "tZEHrGsTwd2-",
        "outputId": "ec8dc567-f2f0-430e-831d-ded3ca4eac44"
      },
      "execution_count": 7,
      "outputs": [
        {
          "output_type": "stream",
          "name": "stdout",
          "text": [
            "218741750267309021256255930435388550208768849997977\n",
            "THEQUICKBROWNFOXJUMPEDOVERTHELAZYDOG\n"
          ]
        }
      ]
    },
    {
      "cell_type": "markdown",
      "source": [
        "***Part 3 of the Affine***"
      ],
      "metadata": {
        "id": "QguWbbQfwpCy"
      }
    },
    {
      "cell_type": "markdown",
      "source": [
        "This function as a summary encodes the text using parts of both parts of the affine, to \n",
        "\n",
        "*   Line 1: Creates a new function affine_n_encode with four arguements\n",
        "*   Line 2: Creates a variable to see the remainder\n",
        "*   Line 3: Creates a variable to fill that remainder with letters\n",
        "*   Line 4: Creates a variable to add more X letters to the phrase of there is a remainder\n",
        "*   Line 5: Creates a new empty list\n",
        "*   Line 6: Starts a for loop, for location in range(0,len(text),n)\n",
        "*   Line 7: Creates a new variable ngram to add X if there is a remainder\n",
        "*   Line 8: Creates a variable which is a call back function to convert ngram to a number\n",
        "*   Line 9: Creates a variable = to the number ngram and applied to it is the actual affine cipher\n",
        "*   Line 10: Converts the previous number back to text\n",
        "*   Line 11: Uses the empty list to put the letters inside\n",
        "*   Line 12: Joins together the list for the scrambled letters to appear as one group of text\n",
        "\n",
        "\n",
        "\n"
      ],
      "metadata": {
        "id": "AyYSRXnsxArZ"
      }
    },
    {
      "cell_type": "code",
      "source": [
        "def affine_n_encode(text, n, a, b):\n",
        "  r = len(text)%n \n",
        "  more = n - r \n",
        "  final_text = text+\"X\"*more\n",
        "  encod_list = []\n",
        "  for location in range(0,len(text),n):\n",
        "    ngram = final_text[location:location+n]\n",
        "    num = convert_to_num(ngram)\n",
        "    af_num=(num*a+b)%(26**n)\n",
        "    af_let = convert_to_text(af_num,n)\n",
        "    encod_list.append(af_let)\n",
        "  return ''.join(encod_list)"
      ],
      "metadata": {
        "id": "HTpu1jrdwrcA"
      },
      "execution_count": 8,
      "outputs": []
    },
    {
      "cell_type": "markdown",
      "source": [
        "**The function affine_n_decode as a summary takes the previous large number, finds the inverse of a in mod 26 to a random power, gets the group of letters in ngram and converts them to a number, does the reverse math of the affine, and converts that number back to a single phrase**\n",
        "*   Line 1: Creates a new function with 4 arguements\n",
        "*   Line 2: Creates a new empty list\n",
        "*   Line 3: Creates a new variable to find the inverse of a in mod 26^X\n",
        "*   Line 4: Starts a for loop, for the index in the range 0 to the length of text increaseing by n\n",
        "*   Line 5: Creates a new variable n_gram = text as a list with it's index + n\n",
        "*   Line 6: Creates a new variable num which converts ngram into a number\n",
        "*   Line 7: Creates a new variable af_num = The reverse of the affine math applied to variable num\n",
        "*   Line 8: Creates a new variable which converts that number back to text\n",
        "*   Line 9: Uses the previous empty list to put the new letters together\n",
        "*   Line 10: Will return the joined list, to give us the original phrase.\n",
        "\n"
      ],
      "metadata": {
        "id": "yrLqoWoKygjR"
      }
    },
    {
      "cell_type": "code",
      "source": [
        "def affine_n_decode(text, n, a, b):#Creates a new variable\n",
        "  dec_list = []#Creates a new list\n",
        "  a_inv = mod_inverse(a,26**n)#Variable a_inv = mod_inverse(a,26**n) a = start, 26 = stop, up\n",
        "  for i in range(0,len(text),n):#Creates a for loop for i in range of 0, length of text, n\n",
        "    ngram = text[i:i+n]#Variable ngram = text index : index + n \n",
        "    num=convert_to_num(ngram)#num = function convert_to_num\n",
        "    af_num = (num-b)*a_inv%(26**n)#af_num = variable num - b times a_inv mod 26 to the power of n\n",
        "    af_le = convert_to_text(af_num,n)#af_le = function convert_to_text\n",
        "    dec_list.append(af_le)#Will append the letters to the list\n",
        "  return ''.join(dec_list)#Will join the list together"
      ],
      "metadata": {
        "id": "hAMrAJYiwwt8"
      },
      "execution_count": 9,
      "outputs": []
    },
    {
      "cell_type": "markdown",
      "source": [
        "**Code needed for the rest of the code to function**\n",
        "*   Line 1: Creates a new variable = the phrase\n",
        "*   Line 2: Creates a new variable n = 5\n",
        "*   Line 3: Creates a new variable a = 347\n",
        "*   Line 4: Creates a new variable b = 1721\n",
        "*   Line 5: Creates a new variable enc = a call back function affine_n_encode with the arguements test, n, a, and b\n",
        "*   Line 6: Creates a new variable dec = a call back function affine_n_decode with the arguements enc, n, a, b\n",
        "*   Line 7: Will print enc\n",
        "*   Line 8: Will print dec\n",
        "\n",
        "\n",
        "\n"
      ],
      "metadata": {
        "id": "WijwZKhDpQJb"
      }
    },
    {
      "cell_type": "code",
      "source": [
        "test = \"THEQUICKBROWNFOXJUMPEDOVERTHELAZYDOG\"\n",
        "n = 5 \n",
        "a = 347 \n",
        "b = 1721 \n",
        "enc = affine_n_encode(test, n, a, b) \n",
        "dec = affine_n_decode(enc, n, a, b) \n",
        "print(enc) \n",
        "print(dec) "
      ],
      "metadata": {
        "colab": {
          "base_uri": "https://localhost:8080/"
        },
        "id": "97FEdAcSw04_",
        "outputId": "5019fd8f-8399-4e47-94ce-3d9f02caa17b"
      },
      "execution_count": 10,
      "outputs": [
        {
          "output_type": "stream",
          "name": "stdout",
          "text": [
            "USLTFZITNPBJEWREMCQTPQONLCWPJAFFGWWHPZFG\n",
            "THEQUICKBROWNFOXJUMPEDOVERTHELAZYDOGXXXX\n"
          ]
        }
      ]
    }
  ]
}