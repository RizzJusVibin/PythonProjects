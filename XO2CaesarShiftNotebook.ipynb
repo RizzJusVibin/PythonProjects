{
  "nbformat": 4,
  "nbformat_minor": 0,
  "metadata": {
    "colab": {
      "name": "XO2CaesarShiftNotebook.ipynb",
      "provenance": []
    },
    "kernelspec": {
      "name": "python3",
      "display_name": "Python 3"
    },
    "language_info": {
      "name": "python"
    }
  },
  "cells": [
    {
      "cell_type": "markdown",
      "source": [
        "# ***Caesar Shift***\n",
        "\n",
        "This is my caesar shift code that uses functions, lists, index, and letter manipulation to encode and decode text in the form of a Caesar Shift"
      ],
      "metadata": {
        "id": "Cc42hyWFUy_W"
      }
    },
    {
      "cell_type": "markdown",
      "source": [
        "*   Line 1: This is the variable that we use to store the alphabet in all caps for the code to later use"
      ],
      "metadata": {
        "id": "ZILmmi6map6-"
      }
    },
    {
      "cell_type": "code",
      "source": [
        "alpha = \"ABCDEFGHIJKLMNOPQRSTUVWXYZ\""
      ],
      "metadata": {
        "id": "NEUKQLvH-XdH"
      },
      "execution_count": 1,
      "outputs": []
    },
    {
      "cell_type": "markdown",
      "source": [
        "**The function caesar_encode as a summary takes the index of the letters of some text, finds that index in the alphabets index, and then add the shift in mod 26 to encode the Caesar shift.**\n",
        "*   Line 1: Creates a new function with the constraints of text and n\n",
        "*   Line 2: Creates an empty list\n",
        "*   Line 3: Creates a for loop, for i (which is the index) in variable text, so for the index of the letters in text\n",
        "*   Line 4: Variable ind will take the alphabet's letters index and find them in the index of text, basically if the variable text = text, then text would have an index of 3, t=0, e=1, x=2, t=3. This for loop will take these index values, and find them in alpha, so t would no longer = 0, it would equal 19 since t is the 19th index of the alphabet and so on\n",
        "*   Line 5: This will use the alphabets index of variable text, like the example above, and add variable n to that index. So if the first letter's value was 19, it will increase to 20 since n = 1\n",
        "*   Line 6: This will divide the index value by 26 to keep it within the 26 letter range, and give back the remainder which will be used to find the letter in the alphabet's index\n",
        "*   Line 7: This line will use the previous empty list, and will append the alphabets letters that the remainder was equal to. As an example, if we had 28/26, this would give us the remainder of 2, 2 in the alphabets index is letter C, and this line will join the letters together, and the letters come from how many times the for loop runs which depends on how long the text is\n",
        "*   Line 8: This will return the entire encoded list of scrambled letters\n"
      ],
      "metadata": {
        "id": "PfLsL29u-asF"
      }
    },
    {
      "cell_type": "code",
      "source": [
        "def caesar_encode(text, n):#Creates a function with the constraints of variables text and n.\n",
        "  answer_list = []#Creates a list\n",
        "  for i in text: #letter is a varible and is counting in text, example what is 0 index in text, = t\n",
        "    ind = alpha.index(i)# What is that index of the letter in alpha\n",
        "    ind +=n #here we are adding the shift to the index.\n",
        "    ind %=26# ind = ind%26\n",
        "    answer_list.append(alpha[ind])#Appends the letter in the new list\n",
        "  return \"\".join(answer_list)#return the strings fromt he list"
      ],
      "metadata": {
        "id": "kZlP9RZy-k6c"
      },
      "execution_count": 2,
      "outputs": []
    },
    {
      "cell_type": "markdown",
      "source": [
        "**The function caesar_decode as a summary takes the index of the letters of some text, finds that index in the alphabets index, and then subtracts the shift in mod 26 to decode the Caesar shift.**\n",
        "*   Line 1: Creates a new function with the constraints of text and n\n",
        "*   Line 2: Creates an empty list\n",
        "*   Line 3: Creates a for loop, for i (which is the index) in variable text, so for the index of the letters in text\n",
        "*   Line 4: Variable ind will take the alphabet's letters index and find them in the index of text, basically if the variable text = text, then text would have an index of 3, t=0, e=1, x=2, t=3. This for loop will take these index values, and find them in alpha, so t would no longer = 0, it would equal 19 since t is the 19th index of the alphabet and so on\n",
        "*   Line 5: This will use the alphabets index of variable text, like the example above, and subtract variable n from that index. So if the first letter's value was 19, it will decrease to 18 since n = 1\n",
        "*   Line 6: This will divide the index value by 26 to keep it within the 26 letter range, and give back the remainder which will be used to find the letter in the alphabet's index\n",
        "*   Line 7: This line will use the previous empty list, and will append the alphabets letters that the remainder was equal to. As an example, if we had 28/26, this would give us the remainder of 2, 2 in the alphabets index is letter C, and this line will join the letters together, and the letters come from how many times the for loop runs which depends on how long the text is\n",
        "*   Line 8: This will return the entire decoded list of scrambled letters to form the original word by joining the list of letters in the empty list together\n",
        "\n"
      ],
      "metadata": {
        "id": "yYJ3fGql--1f"
      }
    },
    {
      "cell_type": "code",
      "source": [
        "def caesar_decode(text, n):#Creates function to decode the text with the constraints of variables text and n.\n",
        "  answer_list = []#Creates a list\n",
        "  for i in text:#For the letter in variable text\n",
        "    ind = alpha.index(i)#Will find the letter in the alphabet\n",
        "    ind -=n # or ind == n, ind should be less than n\n",
        "    ind %=26#ind should be in mod 26\n",
        "    answer_list.append(alpha[ind])#Should append the letter from the alphabet in the list\n",
        "  return \"\".join(answer_list)#Will join the decoded letters into a word"
      ],
      "metadata": {
        "id": "uqzs-nykVKqF"
      },
      "execution_count": 3,
      "outputs": []
    },
    {
      "cell_type": "markdown",
      "source": [
        "**This is the code needed for the functions to work**\n",
        "*   Line 1: This is the variable asking for the user to input a word\n",
        "*   Line 2: Makes the user input in all capital letters\n",
        "*   Line 3: This is the shift that the code uses to shift the index of the numbers up by the value of the variable, so 1\n",
        "*   Line 4: This is the call function to use the caesar encode function, and it has the constraints of text and shift\n",
        "*   Line 5: This is the call function to use the caesar decode function, and it has the constraints of enc and shift so that it decodes the enc letters \n",
        "*   Line 6: This prints enc\n",
        "*   Line 7: This prints dec"
      ],
      "metadata": {
        "id": "sUZDP6MY_e1c"
      }
    },
    {
      "cell_type": "code",
      "source": [
        "text = input(\"Enter text:\")#User inputs a text\n",
        "text = text.upper()#Turns user inputs text to all uppercase letters\n",
        "shift = 1#The shift for the encode = 1\n",
        "enc = caesar_encode(text, shift)#enc = function caesar encode\n",
        "dec = caesar_decode(enc, shift)#dec = function caesar decode\n",
        "print(enc)#Prints the function enc\n",
        "print(dec)#Prints the function dec\n",
        " #If this worked, dec should be the same as test!"
      ],
      "metadata": {
        "colab": {
          "base_uri": "https://localhost:8080/"
        },
        "id": "MvxlS_1B_kDh",
        "outputId": "6e757ad4-a3cd-40dc-feee-11eac11171bd"
      },
      "execution_count": 4,
      "outputs": [
        {
          "output_type": "stream",
          "name": "stdout",
          "text": [
            "Enter text:RIZZJUSVIBIN\n",
            "SJAAKVTWJCJO\n",
            "RIZZJUSVIBIN\n"
          ]
        }
      ]
    }
  ]
}